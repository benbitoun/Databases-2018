{
 "cells": [
  {
   "cell_type": "markdown",
   "metadata": {},
   "source": [
    "## homework 4: part two: investigating lists and dictionaries using functions\n",
    "\n",
    "In this assignment I will ask you to pick five relatively short texts (poems, paragraphs, short essays, song lyrics, whatever interests you). The main thing is to make sure that each text is around 10 - 20 lines or sentences long. Below, I have selected five poems by Wallace Stevens. In each cell I have made a variable that contains each poem, and then I pass that poem through a function called `text_to_dict` that makes a dictionary for each poem. The dictionary contains the title of the poem, the full text as one string, and a list that contains each line of the poem. The function will also make lists of sentences instead of lines if you want to investigate a prose text (sentence by sentence) instead of a poem (line by line).\n",
    "\n",
    "There are two parts of this assignment. \n",
    "\n",
    "**Part 1**, which should be easy, is to replace the poems with texts of your own choice--and choose to split them by lines or sentences. \n",
    "\n",
    "**Part 2** is to write functions that and investigate your texts. If you want to focus on the functions first, you can go straight to Part 2 and use the pomes I have chosen. You can then go back and enter your own texts--your functions should work no matter what text you've chosen.\n"
   ]
  },
  {
   "cell_type": "code",
   "execution_count": 26,
   "metadata": {},
   "outputs": [],
   "source": [
    "#Run this cell toImport regular expressions\n",
    "#And to initialize the all texts list that will contain all of your dictionaries of text\n",
    "import re\n",
    "all_texts = []"
   ]
  },
  {
   "cell_type": "markdown",
   "metadata": {},
   "source": [
    "** understanding the text_to_dict function**\n",
    "\n",
    "You don't have to completely understand this function to use it, but you do need to understand its parameters. It takes three parameters:\n",
    "* `title` is a string you need to write inside function's parameters\n",
    "* `text` is the variable that holds the entire text\n",
    "* `poem` True/False parameter --if it is true it will split your text by line (`\\n`) \n",
    " \tIf it is false it will split your text by sentence ('[.?!])\n",
    "\n",
    "If you look at the function you will see that it builds a dictionary with the following fields:\n",
    "* `title` is the title of the text\n",
    "* `text_as_string` is the full text as a string\n",
    "* `lines` is a list of lines or sentences\n",
    "\n",
    "It returns a dictionary with those fields."
   ]
  },
  {
   "cell_type": "code",
   "execution_count": 27,
   "metadata": {},
   "outputs": [],
   "source": [
    "def text_to_dict(title,text,poem):\n",
    "    dict_of_this_text = {}\n",
    "    dict_of_this_text['title'] = title\n",
    "    dict_of_this_text['text_as_string'] = text\n",
    "    if poem:\n",
    "        text_to_list = text.strip().split('\\n')\n",
    "    else:\n",
    "        text_to_list = re.split(r\"[.?!]\",text) #means to split it in sentences\n",
    "    dict_of_this_text['lines'] = text_to_list\n",
    "    return dict_of_this_text"
   ]
  },
  {
   "cell_type": "markdown",
   "metadata": {},
   "source": [
    "## Part One\n",
    "\n",
    "The next five cells are exactly the same. They define five different texts, and then they pass each text through the `text_to_dict` function. And then they add the resulting dictionary to the all_texts list. \n",
    "\n",
    "In the five cells below enter your five selected texts.\n",
    "\n",
    "**You should do no coding at any point** until the very last cell before part two."
   ]
  },
  {
   "cell_type": "code",
   "execution_count": 28,
   "metadata": {},
   "outputs": [],
   "source": [
    "#To change the text, just put a new text between the quotation mark\n",
    "text0 = '''\n",
    "We met as soulmates, on Parris Inland.\n",
    "We left as inmates, from an asylum.\n",
    "And we were sharp, as sharp as knives.\n",
    "And we were so gung ho to lay down our lives.\n",
    "\n",
    "We came in spastic, like tameless horses.\n",
    "We left in plastic, as numbered corpses.\n",
    "And we learned fast to travel light.\n",
    "Our arms were heavy but our bellies were tight.\n",
    "'''\n",
    "#Remember: you need to type the title into the first parameter\n",
    "#If you want to split by line choose True for the third parameter\n",
    "#If you want to split by sentence, choose False\n",
    "transform_it = text_to_dict(\"Goodnight Saigon\",text0,True)\n",
    "all_texts.append(transform_it)"
   ]
  },
  {
   "cell_type": "code",
   "execution_count": 29,
   "metadata": {},
   "outputs": [],
   "source": [
    "text1 = '''\n",
    "It's nine o'clock on a Saturday\n",
    "The regular crowd shuffles in\n",
    "There's an old man sitting next to me\n",
    "Makin' love to his tonic and gin\n",
    "\n",
    "He says, \"Son, can you play me a memory\n",
    "I'm not really sure how it goes\n",
    "But it's sad and it's sweet and I knew it complete\n",
    "When I wore a younger man's clothes\"\n",
    "\n",
    "La la la, di da da\n",
    "La la, di da da da dum\n",
    "\n",
    "Sing us a song, you're the piano man\n",
    "Sing us a song tonight\n",
    "Well, we're all in the mood for a melody\n",
    "And you've got us feelin' alright\n",
    "\n",
    "Now John at the bar is a friend of mine\n",
    "He gets me my drinks for free\n",
    "And he's quick with a joke or to light up your smoke\n",
    "But there's someplace that he'd rather be\n",
    "\n",
    "He says, \"Bill, I believe this is killing me\"\n",
    "As the smile ran away from his face\n",
    "\"Well I'm sure that I could be a movie star\n",
    "If I could get out of this place\"\n",
    "\n",
    "Oh, la la la, di da da\n",
    "La la, di da da da dum\n",
    "\n",
    "Now Paul is a real estate novelist\n",
    "Who never had time for a wife\n",
    "And he's talkin' with Davy, who's still in the Navy\n",
    "And probably will be for life\n",
    "'''\n",
    "transform_it = text_to_dict(\"Piano Man\",text1,True)\n",
    "all_texts.append(transform_it)"
   ]
  },
  {
   "cell_type": "code",
   "execution_count": 30,
   "metadata": {},
   "outputs": [],
   "source": [
    "text2 = '''\n",
    "Some folks like to get away, \n",
    "Take a holiday from the neighborhood\n",
    "Hop a flight to Miami Beach or to Hollywood\n",
    "But I'm takin' a Greyhound on the Hudson River line\n",
    "I'm in a New York state of mind\n",
    "\n",
    "I've seen all the movie stars in their fancy cars and their limousines\n",
    "Been high in the Rockys under the evergreens\n",
    "I know what I'm needin', and I don't want to waste more time\n",
    "I'm in a New York state of mind\n",
    "\n",
    "It was so easy livin' day by day\n",
    "Out of touch with the rhythym and blues\n",
    "But now I need a little give and take\n",
    "The New York Times, the Daily News\n",
    "\n",
    "It comes down to reality, and it's fine with me cause I've let it slide\n",
    "I don't care if it's Chinatown or on Riverside\n",
    "I don't have any reasons\n",
    "I left them all behind \n",
    "I'm in a New York state of mind\n",
    "Oh yeah\n",
    "'''\n",
    "transform_it = text_to_dict(\"NY State of Mind\",text2,True)\n",
    "all_texts.append(transform_it)"
   ]
  },
  {
   "cell_type": "code",
   "execution_count": 31,
   "metadata": {},
   "outputs": [
    {
     "data": {
      "text/plain": [
       "'Piano Man'"
      ]
     },
     "execution_count": 31,
     "metadata": {},
     "output_type": "execute_result"
    }
   ],
   "source": [
    "all_texts[1]['title']"
   ]
  },
  {
   "cell_type": "code",
   "execution_count": 32,
   "metadata": {},
   "outputs": [],
   "source": [
    "text3 = '''\n",
    "With so many trees in the city, you could see the spring coming each day until a night of warm\n",
    "wind would bring it suddenly in one morning. Sometimes the heavy cold\n",
    "rains would beat it back so that it would seem that it would never come\n",
    "and that you were losing a season out of your life. This was the only\n",
    "truly sad time in Paris because it was unnatural. You expected to be sad\n",
    "in the fall. Part of you died each year when the leaves fell from the\n",
    "trees and their branches were bare against the wind and the cold, wintry\n",
    "light. But you knew there would always be the spring, as you knew the\n",
    "river would flow again after it was frozen. When the cold rains kept on\n",
    "and killed the spring, it was as though a young person had died for no\n",
    "reason.\n",
    "\n",
    "In those days, though, the spring always came finally but it was\n",
    "frightening that it had nearly failed.\n",
    "\n",
    "When spring came, even the false spring, there were no problems except\n",
    "where to be happiest. The only thing that could spoil a day was people\n",
    "and if you could keep from making engagements, each day had no limits.\n",
    "People were always the limiters of happiness except for the very few\n",
    "that were as good as spring itself.\n",
    "'''\n",
    "transform_it = text_to_dict(\"A Moveable Feast\",text3,False)\n",
    "all_texts.append(transform_it)"
   ]
  },
  {
   "cell_type": "code",
   "execution_count": 33,
   "metadata": {},
   "outputs": [],
   "source": [
    "text4 = '''\n",
    "Take bread away from me, if you wish,\n",
    "take air away, but\n",
    "do not take from me your laughter.\n",
    "\n",
    "Do not take away the rose,\n",
    "the lance flower that you pluck,\n",
    "the water that suddenly\n",
    "bursts forth in joy,\n",
    "the sudden wave\n",
    "of silver born in you.\n",
    "\n",
    "My struggle is harsh and I come back\n",
    "with eyes tired\n",
    "at times from having seen\n",
    "the unchanging earth,\n",
    "but when your laughter enters\n",
    "it rises to the sky seeking me\n",
    "and it opens for me all\n",
    "the doors of life.\n",
    "'''\n",
    "transform_it = text_to_dict(\"Your Laughter\",text4,True)\n",
    "all_texts.append(transform_it)"
   ]
  },
  {
   "cell_type": "markdown",
   "metadata": {},
   "source": [
    "Run the two cells below to confirm that first, you only have five texts in the all_texts list, and next, look at the all_texts list to see the dictionary inside it. "
   ]
  },
  {
   "cell_type": "code",
   "execution_count": 34,
   "metadata": {},
   "outputs": [
    {
     "data": {
      "text/plain": [
       "5"
      ]
     },
     "execution_count": 34,
     "metadata": {},
     "output_type": "execute_result"
    }
   ],
   "source": [
    "len(all_texts)"
   ]
  },
  {
   "cell_type": "code",
   "execution_count": 35,
   "metadata": {},
   "outputs": [
    {
     "data": {
      "text/plain": [
       "[{'title': 'Goodnight Saigon',\n",
       "  'text_as_string': '\\nWe met as soulmates, on Parris Inland.\\nWe left as inmates, from an asylum.\\nAnd we were sharp, as sharp as knives.\\nAnd we were so gung ho to lay down our lives.\\n\\nWe came in spastic, like tameless horses.\\nWe left in plastic, as numbered corpses.\\nAnd we learned fast to travel light.\\nOur arms were heavy but our bellies were tight.\\n',\n",
       "  'lines': ['We met as soulmates, on Parris Inland.',\n",
       "   'We left as inmates, from an asylum.',\n",
       "   'And we were sharp, as sharp as knives.',\n",
       "   'And we were so gung ho to lay down our lives.',\n",
       "   '',\n",
       "   'We came in spastic, like tameless horses.',\n",
       "   'We left in plastic, as numbered corpses.',\n",
       "   'And we learned fast to travel light.',\n",
       "   'Our arms were heavy but our bellies were tight.']},\n",
       " {'title': 'Piano Man',\n",
       "  'text_as_string': '\\nIt\\'s nine o\\'clock on a Saturday\\nThe regular crowd shuffles in\\nThere\\'s an old man sitting next to me\\nMakin\\' love to his tonic and gin\\n\\nHe says, \"Son, can you play me a memory\\nI\\'m not really sure how it goes\\nBut it\\'s sad and it\\'s sweet and I knew it complete\\nWhen I wore a younger man\\'s clothes\"\\n\\nLa la la, di da da\\nLa la, di da da da dum\\n\\nSing us a song, you\\'re the piano man\\nSing us a song tonight\\nWell, we\\'re all in the mood for a melody\\nAnd you\\'ve got us feelin\\' alright\\n\\nNow John at the bar is a friend of mine\\nHe gets me my drinks for free\\nAnd he\\'s quick with a joke or to light up your smoke\\nBut there\\'s someplace that he\\'d rather be\\n\\nHe says, \"Bill, I believe this is killing me\"\\nAs the smile ran away from his face\\n\"Well I\\'m sure that I could be a movie star\\nIf I could get out of this place\"\\n\\nOh, la la la, di da da\\nLa la, di da da da dum\\n\\nNow Paul is a real estate novelist\\nWho never had time for a wife\\nAnd he\\'s talkin\\' with Davy, who\\'s still in the Navy\\nAnd probably will be for life\\n',\n",
       "  'lines': [\"It's nine o'clock on a Saturday\",\n",
       "   'The regular crowd shuffles in',\n",
       "   \"There's an old man sitting next to me\",\n",
       "   \"Makin' love to his tonic and gin\",\n",
       "   '',\n",
       "   'He says, \"Son, can you play me a memory',\n",
       "   \"I'm not really sure how it goes\",\n",
       "   \"But it's sad and it's sweet and I knew it complete\",\n",
       "   'When I wore a younger man\\'s clothes\"',\n",
       "   '',\n",
       "   'La la la, di da da',\n",
       "   'La la, di da da da dum',\n",
       "   '',\n",
       "   \"Sing us a song, you're the piano man\",\n",
       "   'Sing us a song tonight',\n",
       "   \"Well, we're all in the mood for a melody\",\n",
       "   \"And you've got us feelin' alright\",\n",
       "   '',\n",
       "   'Now John at the bar is a friend of mine',\n",
       "   'He gets me my drinks for free',\n",
       "   \"And he's quick with a joke or to light up your smoke\",\n",
       "   \"But there's someplace that he'd rather be\",\n",
       "   '',\n",
       "   'He says, \"Bill, I believe this is killing me\"',\n",
       "   'As the smile ran away from his face',\n",
       "   '\"Well I\\'m sure that I could be a movie star',\n",
       "   'If I could get out of this place\"',\n",
       "   '',\n",
       "   'Oh, la la la, di da da',\n",
       "   'La la, di da da da dum',\n",
       "   '',\n",
       "   'Now Paul is a real estate novelist',\n",
       "   'Who never had time for a wife',\n",
       "   \"And he's talkin' with Davy, who's still in the Navy\",\n",
       "   'And probably will be for life']},\n",
       " {'title': 'NY State of Mind',\n",
       "  'text_as_string': \"\\nSome folks like to get away, \\nTake a holiday from the neighborhood\\nHop a flight to Miami Beach or to Hollywood\\nBut I'm takin' a Greyhound on the Hudson River line\\nI'm in a New York state of mind\\n\\nI've seen all the movie stars in their fancy cars and their limousines\\nBeen high in the Rockys under the evergreens\\nI know what I'm needin', and I don't want to waste more time\\nI'm in a New York state of mind\\n\\nIt was so easy livin' day by day\\nOut of touch with the rhythym and blues\\nBut now I need a little give and take\\nThe New York Times, the Daily News\\n\\nIt comes down to reality, and it's fine with me cause I've let it slide\\nI don't care if it's Chinatown or on Riverside\\nI don't have any reasons\\nI left them all behind \\nI'm in a New York state of mind\\nOh yeah\\n\",\n",
       "  'lines': ['Some folks like to get away, ',\n",
       "   'Take a holiday from the neighborhood',\n",
       "   'Hop a flight to Miami Beach or to Hollywood',\n",
       "   \"But I'm takin' a Greyhound on the Hudson River line\",\n",
       "   \"I'm in a New York state of mind\",\n",
       "   '',\n",
       "   \"I've seen all the movie stars in their fancy cars and their limousines\",\n",
       "   'Been high in the Rockys under the evergreens',\n",
       "   \"I know what I'm needin', and I don't want to waste more time\",\n",
       "   \"I'm in a New York state of mind\",\n",
       "   '',\n",
       "   \"It was so easy livin' day by day\",\n",
       "   'Out of touch with the rhythym and blues',\n",
       "   'But now I need a little give and take',\n",
       "   'The New York Times, the Daily News',\n",
       "   '',\n",
       "   \"It comes down to reality, and it's fine with me cause I've let it slide\",\n",
       "   \"I don't care if it's Chinatown or on Riverside\",\n",
       "   \"I don't have any reasons\",\n",
       "   'I left them all behind ',\n",
       "   \"I'm in a New York state of mind\",\n",
       "   'Oh yeah']},\n",
       " {'title': 'A Moveable Feast',\n",
       "  'text_as_string': '\\nWith so many trees in the city, you could see the spring coming each day until a night of warm\\nwind would bring it suddenly in one morning. Sometimes the heavy cold\\nrains would beat it back so that it would seem that it would never come\\nand that you were losing a season out of your life. This was the only\\ntruly sad time in Paris because it was unnatural. You expected to be sad\\nin the fall. Part of you died each year when the leaves fell from the\\ntrees and their branches were bare against the wind and the cold, wintry\\nlight. But you knew there would always be the spring, as you knew the\\nriver would flow again after it was frozen. When the cold rains kept on\\nand killed the spring, it was as though a young person had died for no\\nreason.\\n\\nIn those days, though, the spring always came finally but it was\\nfrightening that it had nearly failed.\\n\\nWhen spring came, even the false spring, there were no problems except\\nwhere to be happiest. The only thing that could spoil a day was people\\nand if you could keep from making engagements, each day had no limits.\\nPeople were always the limiters of happiness except for the very few\\nthat were as good as spring itself.\\n',\n",
       "  'lines': ['\\nWith so many trees in the city, you could see the spring coming each day until a night of warm\\nwind would bring it suddenly in one morning',\n",
       "   ' Sometimes the heavy cold\\nrains would beat it back so that it would seem that it would never come\\nand that you were losing a season out of your life',\n",
       "   ' This was the only\\ntruly sad time in Paris because it was unnatural',\n",
       "   ' You expected to be sad\\nin the fall',\n",
       "   ' Part of you died each year when the leaves fell from the\\ntrees and their branches were bare against the wind and the cold, wintry\\nlight',\n",
       "   ' But you knew there would always be the spring, as you knew the\\nriver would flow again after it was frozen',\n",
       "   ' When the cold rains kept on\\nand killed the spring, it was as though a young person had died for no\\nreason',\n",
       "   '\\n\\nIn those days, though, the spring always came finally but it was\\nfrightening that it had nearly failed',\n",
       "   '\\n\\nWhen spring came, even the false spring, there were no problems except\\nwhere to be happiest',\n",
       "   ' The only thing that could spoil a day was people\\nand if you could keep from making engagements, each day had no limits',\n",
       "   '\\nPeople were always the limiters of happiness except for the very few\\nthat were as good as spring itself',\n",
       "   '\\n']},\n",
       " {'title': 'Your Laughter',\n",
       "  'text_as_string': '\\nTake bread away from me, if you wish,\\ntake air away, but\\ndo not take from me your laughter.\\n\\nDo not take away the rose,\\nthe lance flower that you pluck,\\nthe water that suddenly\\nbursts forth in joy,\\nthe sudden wave\\nof silver born in you.\\n\\nMy struggle is harsh and I come back\\nwith eyes tired\\nat times from having seen\\nthe unchanging earth,\\nbut when your laughter enters\\nit rises to the sky seeking me\\nand it opens for me all\\nthe doors of life.\\n',\n",
       "  'lines': ['Take bread away from me, if you wish,',\n",
       "   'take air away, but',\n",
       "   'do not take from me your laughter.',\n",
       "   '',\n",
       "   'Do not take away the rose,',\n",
       "   'the lance flower that you pluck,',\n",
       "   'the water that suddenly',\n",
       "   'bursts forth in joy,',\n",
       "   'the sudden wave',\n",
       "   'of silver born in you.',\n",
       "   '',\n",
       "   'My struggle is harsh and I come back',\n",
       "   'with eyes tired',\n",
       "   'at times from having seen',\n",
       "   'the unchanging earth,',\n",
       "   'but when your laughter enters',\n",
       "   'it rises to the sky seeking me',\n",
       "   'and it opens for me all',\n",
       "   'the doors of life.']}]"
      ]
     },
     "execution_count": 35,
     "metadata": {},
     "output_type": "execute_result"
    }
   ],
   "source": [
    "all_texts"
   ]
  },
  {
   "cell_type": "markdown",
   "metadata": {},
   "source": [
    "In the cell below, loop through all_texts and print out the title of each text. (This is the only code you need to write for Part One.)"
   ]
  },
  {
   "cell_type": "code",
   "execution_count": 36,
   "metadata": {},
   "outputs": [
    {
     "name": "stdout",
     "output_type": "stream",
     "text": [
      "Goodnight Saigon\n",
      "Piano Man\n",
      "NY State of Mind\n",
      "A Moveable Feast\n",
      "Your Laughter\n"
     ]
    }
   ],
   "source": [
    "for text in all_texts:\n",
    "    print(text['title'])"
   ]
  },
  {
   "cell_type": "markdown",
   "metadata": {},
   "source": [
    "## Part Two:  searching within lists and dictionaries\n",
    "In this part, we will be searching through each text and printing out a desired result. The searches, including loops and printing should all be defined in the function. The second cell should just have to function call that executes the function. I have written an example function and call for the first search. For each function that you write you should copy the original function and modify it so what does what I ask for.\n",
    "\n",
    "For the first five functions, there are no parameters passed to the functions--the calls will just execute the function. Go step-by-step and take your time."
   ]
  },
  {
   "cell_type": "code",
   "execution_count": 37,
   "metadata": {},
   "outputs": [],
   "source": [
    "def get_lengths():\n",
    "    for text in all_texts:\n",
    "        print(text['title'])\n",
    "        print(len(text['text_as_string']))\n",
    "        print(\"------------\")"
   ]
  },
  {
   "cell_type": "code",
   "execution_count": 38,
   "metadata": {},
   "outputs": [
    {
     "name": "stdout",
     "output_type": "stream",
     "text": [
      "Goodnight Saigon\n",
      "330\n",
      "------------\n",
      "Piano Man\n",
      "996\n",
      "------------\n",
      "NY State of Mind\n",
      "762\n",
      "------------\n",
      "A Moveable Feast\n",
      "1169\n",
      "------------\n",
      "Your Laughter\n",
      "444\n",
      "------------\n"
     ]
    }
   ],
   "source": [
    "get_lengths()"
   ]
  },
  {
   "cell_type": "markdown",
   "metadata": {},
   "source": [
    "Question 1\n",
    "Now write a function that gets the **line count for each poem** (or sentence count for each piece of prose). This function is going to be very similar to the last one. Instead of accessing the whole text via text['text_as_string'] which is a string, you need to access the list of lines/sentences and get the length of that list. Everything else should be the same."
   ]
  },
  {
   "cell_type": "code",
   "execution_count": 39,
   "metadata": {},
   "outputs": [],
   "source": [
    "def get_line_count():\n",
    "    for text in all_texts:\n",
    "        print(text['title'])\n",
    "        print(len(text['lines']))\n",
    "        print(\"------------\")"
   ]
  },
  {
   "cell_type": "code",
   "execution_count": 40,
   "metadata": {},
   "outputs": [
    {
     "name": "stdout",
     "output_type": "stream",
     "text": [
      "Goodnight Saigon\n",
      "9\n",
      "------------\n",
      "Piano Man\n",
      "35\n",
      "------------\n",
      "NY State of Mind\n",
      "22\n",
      "------------\n",
      "A Moveable Feast\n",
      "12\n",
      "------------\n",
      "Your Laughter\n",
      "19\n",
      "------------\n"
     ]
    }
   ],
   "source": [
    "get_line_count()"
   ]
  },
  {
   "cell_type": "markdown",
   "metadata": {},
   "source": [
    "Question 2\n",
    "Now write a function that prints out **one random line or sentence from each text**. Again, this function will look much the same as the last ones, but instead of getting numbers you need to get actual lines. I have included the necessary import and an example of how to get random integers. Basically, for each text you need to get one element from the list of lines/ sentences with a random number between 0 and the length of the list."
   ]
  },
  {
   "cell_type": "code",
   "execution_count": 58,
   "metadata": {},
   "outputs": [],
   "source": [
    "\n",
    "from random import randint\n",
    "#Write your function here name it show_random_lines()\n",
    "def show_random_lines():\n",
    "    for text in all_texts:\n",
    "        random_line = randint(0, len(text['lines']))\n",
    "        print(text['title'])\n",
    "        print(text['lines'][random_line])\n",
    "        print('------------------------')\n",
    "\n",
    "#This should be inside the inner loop \n",
    "#so you get a fresh random number for each text\n",
    "#And it should not be from 0 to 9, but 0 to what?\n",
    "#Keep in mind that the range (0,9) give you any number \n",
    "#from 0 to 9 including both 0 and 9.\n"
   ]
  },
  {
   "cell_type": "code",
   "execution_count": 59,
   "metadata": {},
   "outputs": [
    {
     "name": "stdout",
     "output_type": "stream",
     "text": [
      "Goodnight Saigon\n",
      "We left as inmates, from an asylum.\n",
      "------------------------\n",
      "Piano Man\n",
      "And probably will be for life\n",
      "------------------------\n",
      "NY State of Mind\n",
      "I'm in a New York state of mind\n",
      "------------------------\n",
      "A Moveable Feast\n",
      "\n",
      "\n",
      "When spring came, even the false spring, there were no problems except\n",
      "where to be happiest\n",
      "------------------------\n",
      "Your Laughter\n",
      "Do not take away the rose,\n",
      "------------------------\n"
     ]
    }
   ],
   "source": [
    "show_random_lines()"
   ]
  },
  {
   "cell_type": "markdown",
   "metadata": {},
   "source": [
    "Question 3\n",
    "This is a little bit different--instead of printing out something from each text, I want you to **print the entire text of the longest text**. Remember in the first function, I printed out the length of each text. Well, you need to test for the longest text as you look through and when you're done looping through print out the one that is longest.\n",
    "\n",
    "**Major hints!**: To do this you will need two **tracking variables** set before the loop runs: A numerical one that tracks the longest length (the number), and string variable remembers the actual text that has that length.\n",
    "\n",
    "Like this: longest_length = 0 and longest_text = \"\"\n",
    "\n",
    "When you loop through you need to test if each text was longer than the last one, and if it is longer--you update longest_length and longest_text to reflect the highest length, and the actual text. When the loop is over you then print out that longest_text string."
   ]
  },
  {
   "cell_type": "code",
   "execution_count": 64,
   "metadata": {},
   "outputs": [],
   "source": [
    "#Write your function here, name it longest_text()\n",
    "def longest_text():\n",
    "    longest_length = 0\n",
    "    longest_text = \"\"\n",
    "    \n",
    "    for text in all_texts:\n",
    "        if len(text['text_as_string']) > longest_length:\n",
    "            longest_length = len(text['text_as_string']) #that means that now my longest_length is longer than the one before\n",
    "            longest_text = text['text_as_string']\n",
    "            \n",
    "    print(longest_text)"
   ]
  },
  {
   "cell_type": "code",
   "execution_count": 65,
   "metadata": {},
   "outputs": [
    {
     "name": "stdout",
     "output_type": "stream",
     "text": [
      "\n",
      "With so many trees in the city, you could see the spring coming each day until a night of warm\n",
      "wind would bring it suddenly in one morning. Sometimes the heavy cold\n",
      "rains would beat it back so that it would seem that it would never come\n",
      "and that you were losing a season out of your life. This was the only\n",
      "truly sad time in Paris because it was unnatural. You expected to be sad\n",
      "in the fall. Part of you died each year when the leaves fell from the\n",
      "trees and their branches were bare against the wind and the cold, wintry\n",
      "light. But you knew there would always be the spring, as you knew the\n",
      "river would flow again after it was frozen. When the cold rains kept on\n",
      "and killed the spring, it was as though a young person had died for no\n",
      "reason.\n",
      "\n",
      "In those days, though, the spring always came finally but it was\n",
      "frightening that it had nearly failed.\n",
      "\n",
      "When spring came, even the false spring, there were no problems except\n",
      "where to be happiest. The only thing that could spoil a day was people\n",
      "and if you could keep from making engagements, each day had no limits.\n",
      "People were always the limiters of happiness except for the very few\n",
      "that were as good as spring itself.\n",
      "\n"
     ]
    }
   ],
   "source": [
    "longest_text()"
   ]
  },
  {
   "cell_type": "markdown",
   "metadata": {},
   "source": [
    "Question 4\n",
    "This is kind of a combination of the first two functions--write a function that gets the **average line/sentence length for each text**."
   ]
  },
  {
   "cell_type": "code",
   "execution_count": 68,
   "metadata": {},
   "outputs": [],
   "source": [
    "from statistics import mean\n",
    "\n",
    "def average_line_length():\n",
    "    for text in all_texts:\n",
    "        avg_length = mean([len(line) for line in text['lines']])\n",
    "        print(text['title'])\n",
    "        print('Average line length:', avg_length)\n",
    "        print('---------------------------------')\n"
   ]
  },
  {
   "cell_type": "code",
   "execution_count": 69,
   "metadata": {},
   "outputs": [
    {
     "name": "stdout",
     "output_type": "stream",
     "text": [
      "Goodnight Saigon\n",
      "Average line length: 35.55555555555556\n",
      "---------------------------------\n",
      "Piano Man\n",
      "Average line length: 27.428571428571427\n",
      "---------------------------------\n",
      "NY State of Mind\n",
      "Average line length: 33.59090909090909\n",
      "---------------------------------\n",
      "A Moveable Feast\n",
      "Average line length: 96.5\n",
      "---------------------------------\n",
      "Your Laughter\n",
      "Average line length: 22.31578947368421\n",
      "---------------------------------\n"
     ]
    }
   ],
   "source": [
    "average_line_length()"
   ]
  },
  {
   "cell_type": "markdown",
   "metadata": {},
   "source": [
    "Question 5\n",
    "**Print the longest line/sentence in each text**. \n",
    "This is similar to question 3--but your two tracking variables (longest_length and longest_line) need to be placed right before the inside loop--and then you print the lines each time the inside loop ends."
   ]
  },
  {
   "cell_type": "code",
   "execution_count": 76,
   "metadata": {},
   "outputs": [],
   "source": [
    "def longest_line_in_each():\n",
    "    \n",
    "    for text in all_texts:\n",
    "        longest_length = 0\n",
    "        longest_line = \"\"\n",
    "        \n",
    "        for line in text['lines']:\n",
    "            if len(line) > longest_length:\n",
    "                longest_length = len(line) #that means that now my longest_length is longer than the one before\n",
    "                longest_line = line\n",
    "            \n",
    "        print(text['title'])\n",
    "        print(longest_line)\n",
    "        print('----------------------')"
   ]
  },
  {
   "cell_type": "code",
   "execution_count": 77,
   "metadata": {},
   "outputs": [
    {
     "name": "stdout",
     "output_type": "stream",
     "text": [
      "Goodnight Saigon\n",
      "Our arms were heavy but our bellies were tight.\n",
      "----------------------\n",
      "Piano Man\n",
      "And he's quick with a joke or to light up your smoke\n",
      "----------------------\n",
      "NY State of Mind\n",
      "It comes down to reality, and it's fine with me cause I've let it slide\n",
      "----------------------\n",
      "A Moveable Feast\n",
      " Sometimes the heavy cold\n",
      "rains would beat it back so that it would seem that it would never come\n",
      "and that you were losing a season out of your life\n",
      "----------------------\n",
      "Your Laughter\n",
      "Take bread away from me, if you wish,\n",
      "----------------------\n"
     ]
    }
   ],
   "source": [
    "longest_line_in_each()"
   ]
  },
  {
   "cell_type": "markdown",
   "metadata": {},
   "source": [
    "Question 6\n",
    "**Print the shortest single line/sentence out of all of the texts that is greater than zero**\n",
    "This is the tricky-ish: You need to place the tracking variables outside the loop (like question 4, but the loop through all of the lines, test for the shortest one (greater than 0)."
   ]
  },
  {
   "cell_type": "code",
   "execution_count": 91,
   "metadata": {},
   "outputs": [],
   "source": [
    "def shortest_of_all_lines():\n",
    "  shortest_length = float('inf')\n",
    "  shortest_line = \"\"\n",
    "  for text in all_texts:\n",
    "    for line in text['lines']:\n",
    "      if len(line) > 0 and len(line) < shortest_length:\n",
    "        shortest_length = len(line)\n",
    "        shortest_line = line\n",
    " \n",
    "    print(shortest_line)"
   ]
  },
  {
   "cell_type": "code",
   "execution_count": 92,
   "metadata": {},
   "outputs": [
    {
     "name": "stdout",
     "output_type": "stream",
     "text": [
      "We left as inmates, from an asylum.\n",
      "La la la, di da da\n",
      "Oh yeah\n",
      "\n",
      "\n",
      "\n",
      "\n"
     ]
    }
   ],
   "source": [
    "shortest_of_all_lines() #googlet float('inf'), but not sure it it's right here and why I get 3 lines..."
   ]
  },
  {
   "cell_type": "code",
   "execution_count": null,
   "metadata": {},
   "outputs": [],
   "source": []
  },
  {
   "cell_type": "markdown",
   "metadata": {},
   "source": [
    "## searching with regular expressions\n",
    "In the functions below you will search all the texts using regular expressions. The first few of these functions should not be too challenging--you just need to adjust the regular expression inside the function. At points it gets a little more complex as you have to control the looping through the lists and dictionaries."
   ]
  },
  {
   "cell_type": "code",
   "execution_count": 93,
   "metadata": {},
   "outputs": [],
   "source": [
    "def get_this_word(word):\n",
    "    my_regex = r\"\\b\" + word + r\"\\b\"\n",
    "    for text in all_texts:\n",
    "        result = [line for line in text['lines'] if re.search(my_regex, line, re.IGNORECASE)]\n",
    "        if len(result) > 0:\n",
    "            print(text['title'])\n",
    "            [print(line) for line in result]\n",
    "            print(\"------------\")\n",
    "            "
   ]
  },
  {
   "cell_type": "code",
   "execution_count": 94,
   "metadata": {},
   "outputs": [],
   "source": [
    "get_this_word('deal')"
   ]
  },
  {
   "cell_type": "markdown",
   "metadata": {},
   "source": [
    "Question 7\n",
    "Print out the lines that start with the word entered.  You just need to adjust the regular expression here."
   ]
  },
  {
   "cell_type": "code",
   "execution_count": 102,
   "metadata": {},
   "outputs": [],
   "source": [
    "def line_starts_with(word):\n",
    "  my_regex = r\"^\\b\" + word + r\"\\b\" #\\b = Word boundary: spaces, commas, end of line, anything that comes at the beginning or end of a word\n",
    "  for text in all_texts:\n",
    "    result = [line for line in text['lines'] if re.search(my_regex, line, re.IGNORECASE)]\n",
    "    if len(result) > 0:\n",
    "      print(text['title'])\n",
    "      [print(line) for line in result]\n",
    "      print(\"------------\")"
   ]
  },
  {
   "cell_type": "code",
   "execution_count": 103,
   "metadata": {},
   "outputs": [
    {
     "name": "stdout",
     "output_type": "stream",
     "text": [
      "Piano Man\n",
      "The regular crowd shuffles in\n",
      "------------\n",
      "NY State of Mind\n",
      "The New York Times, the Daily News\n",
      "------------\n",
      "Your Laughter\n",
      "the lance flower that you pluck,\n",
      "the water that suddenly\n",
      "the sudden wave\n",
      "the unchanging earth,\n",
      "the doors of life.\n",
      "------------\n"
     ]
    }
   ],
   "source": [
    "line_starts_with('the')"
   ]
  },
  {
   "cell_type": "markdown",
   "metadata": {},
   "source": [
    "Question 8\n",
    "Print out the lines that end with the word entered.  You just need to adjust the regular expression here."
   ]
  },
  {
   "cell_type": "code",
   "execution_count": 118,
   "metadata": {},
   "outputs": [],
   "source": [
    "def line_ends_with(word):\n",
    "  my_regex = r\"\\b\" + word + r\"\\b[,.;!?']*$\" #don't forget the [,.;!?']!\n",
    "  for text in all_texts:\n",
    "    result = [line for line in text['lines'] if re.search(my_regex, line, re.IGNORECASE)]\n",
    "    if len(result) > 0:\n",
    "      print(text['title'])\n",
    "      [print(line) for line in result]\n",
    "      print(\"------------\")"
   ]
  },
  {
   "cell_type": "code",
   "execution_count": 119,
   "metadata": {},
   "outputs": [
    {
     "name": "stdout",
     "output_type": "stream",
     "text": [
      "Piano Man\n",
      "And probably will be for life\n",
      "------------\n",
      "A Moveable Feast\n",
      " Sometimes the heavy cold\n",
      "rains would beat it back so that it would seem that it would never come\n",
      "and that you were losing a season out of your life\n",
      "------------\n",
      "Your Laughter\n",
      "the doors of life.\n",
      "------------\n"
     ]
    }
   ],
   "source": [
    "line_ends_with('life')"
   ]
  },
  {
   "cell_type": "markdown",
   "metadata": {},
   "source": [
    "Question 9\n",
    "Print out **how many times the word was found in each text.** In this case, instead of the list comprehension, you want to run a re.findall() on the string of the text (not the list) and then count the number of elements in the list of results.\n",
    "\n",
    "Hint: use the original function at the beginning of this section, and make the proper adjustments to the variable \"result\""
   ]
  },
  {
   "cell_type": "code",
   "execution_count": 120,
   "metadata": {},
   "outputs": [],
   "source": [
    "def how_many_times(word):\n",
    "  my_regex = r\"\\b\" + word + r\"\\b\"\n",
    "  for text in all_texts:\n",
    "    result = len(re.findall(my_regex, text['text_as_string'], re.IGNORECASE))\n",
    "    if result > 0:\n",
    "      print(text['title'])\n",
    "      print(result)\n",
    "      print(\"------------\")"
   ]
  },
  {
   "cell_type": "code",
   "execution_count": 121,
   "metadata": {},
   "outputs": [
    {
     "name": "stdout",
     "output_type": "stream",
     "text": [
      "Piano Man\n",
      "6\n",
      "------------\n",
      "NY State of Mind\n",
      "8\n",
      "------------\n",
      "A Moveable Feast\n",
      "18\n",
      "------------\n",
      "Your Laughter\n",
      "7\n",
      "------------\n"
     ]
    }
   ],
   "source": [
    "how_many_times('the')"
   ]
  },
  {
   "cell_type": "markdown",
   "metadata": {},
   "source": [
    "Question 10\n",
    "Print out **the text that has the highest occurrence of the word** you searched for. This is similar to the last function, but here you need tracking variables like you had in Question 3.\n"
   ]
  },
  {
   "cell_type": "code",
   "execution_count": 135,
   "metadata": {},
   "outputs": [],
   "source": [
    "def text_with_most_occurance_of(word):\n",
    "  my_regex = r\"\\b\" + word + r\"\\b\"\n",
    "  number_of_occurance = 0\n",
    "  text = \"\"\n",
    "  for text in all_texts:\n",
    "    result = len(re.findall(my_regex, text['text_as_string'], re.IGNORECASE))\n",
    "    if result > number_of_occurance:\n",
    "      number_of_occurance = result\n",
    "      text = text['text_as_string']\n",
    "      \n",
    "  print('Number of occurance:', number_of_occurance)\n",
    "  print(text)"
   ]
  },
  {
   "cell_type": "code",
   "execution_count": 136,
   "metadata": {},
   "outputs": [
    {
     "name": "stdout",
     "output_type": "stream",
     "text": [
      "Number of occurance: 1\n",
      "{'title': 'Your Laughter', 'text_as_string': '\\nTake bread away from me, if you wish,\\ntake air away, but\\ndo not take from me your laughter.\\n\\nDo not take away the rose,\\nthe lance flower that you pluck,\\nthe water that suddenly\\nbursts forth in joy,\\nthe sudden wave\\nof silver born in you.\\n\\nMy struggle is harsh and I come back\\nwith eyes tired\\nat times from having seen\\nthe unchanging earth,\\nbut when your laughter enters\\nit rises to the sky seeking me\\nand it opens for me all\\nthe doors of life.\\n', 'lines': ['Take bread away from me, if you wish,', 'take air away, but', 'do not take from me your laughter.', '', 'Do not take away the rose,', 'the lance flower that you pluck,', 'the water that suddenly', 'bursts forth in joy,', 'the sudden wave', 'of silver born in you.', '', 'My struggle is harsh and I come back', 'with eyes tired', 'at times from having seen', 'the unchanging earth,', 'but when your laughter enters', 'it rises to the sky seeking me', 'and it opens for me all', 'the doors of life.']}\n"
     ]
    }
   ],
   "source": [
    "text_with_most_occurance_of('life') #Not sure if this is correct..."
   ]
  },
  {
   "cell_type": "markdown",
   "metadata": {},
   "source": [
    "Question 11\n",
    "Print out **lines containing words of the length asked**. We are sort of back to basics here, you just need to modify the regular expression of the first function (get_this_word(word)) so that it can take a number parameter for the length of characters in a word."
   ]
  },
  {
   "cell_type": "code",
   "execution_count": 138,
   "metadata": {},
   "outputs": [],
   "source": [
    "def lines_with_words_this_length(length):\n",
    "  my_regex = r\"\\w{\" + length + r\"}\"\n",
    "  for text in all_texts:\n",
    "    result = [line for line in text['lines'] if re.search(my_regex, line, re.IGNORECASE)]\n",
    "    if len(result) > 0:\n",
    "      print(text['title'])\n",
    "      [print(line) for line in result]\n",
    "      print(\"------------\")"
   ]
  },
  {
   "cell_type": "code",
   "execution_count": 139,
   "metadata": {},
   "outputs": [
    {
     "name": "stdout",
     "output_type": "stream",
     "text": [
      "NY State of Mind\n",
      "Take a holiday from the neighborhood\n",
      "I've seen all the movie stars in their fancy cars and their limousines\n",
      "Been high in the Rockys under the evergreens\n",
      "------------\n",
      "A Moveable Feast\n",
      "\n",
      "\n",
      "In those days, though, the spring always came finally but it was\n",
      "frightening that it had nearly failed\n",
      " The only thing that could spoil a day was people\n",
      "and if you could keep from making engagements, each day had no limits\n",
      "------------\n",
      "Your Laughter\n",
      "the unchanging earth,\n",
      "------------\n"
     ]
    }
   ],
   "source": [
    "lines_with_words_this_length('10')"
   ]
  },
  {
   "cell_type": "markdown",
   "metadata": {
    "collapsed": true
   },
   "source": [
    "**Final question:** in this cell, describe two functions that you would like to write, not ones that you're able to write, but ones you think would be useful or interesting or fun. If you feel like trying to write it, go-ahead!"
   ]
  },
  {
   "cell_type": "code",
   "execution_count": null,
   "metadata": {
    "collapsed": true
   },
   "outputs": [],
   "source": []
  },
  {
   "cell_type": "markdown",
   "metadata": {
    "collapsed": true
   },
   "source": [
    "**Bonus question:** Write a function that counts word frequency: that is, it returns a dictionary with each unique word and its count, sorted by the most frequent. Note, this is highly stack-overflowable -- Python has some built in ways of doing this. If you're doing this, you might as well try to do it on your own. But it's up to you!"
   ]
  },
  {
   "cell_type": "code",
   "execution_count": null,
   "metadata": {
    "collapsed": true
   },
   "outputs": [],
   "source": [
    "import pandas as pd\n",
    "\n",
    "def word_frequencies(text):\n",
    "  # tokenise all the words and add them to a list\n",
    "  allwords = pd.Series(re.findall(r'\\w+', text))\n",
    "    \n",
    "    #Not sure if this leads to something usable...kind of lost myselft on stackoverflow and not sure how to go on."
   ]
  }
 ],
 "metadata": {
  "kernelspec": {
   "display_name": "Python 3",
   "language": "python",
   "name": "python3"
  },
  "language_info": {
   "codemirror_mode": {
    "name": "ipython",
    "version": 3
   },
   "file_extension": ".py",
   "mimetype": "text/x-python",
   "name": "python",
   "nbconvert_exporter": "python",
   "pygments_lexer": "ipython3",
   "version": "3.6.4"
  }
 },
 "nbformat": 4,
 "nbformat_minor": 2
}
